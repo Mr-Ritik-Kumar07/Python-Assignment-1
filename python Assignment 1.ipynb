{
 "cells": [
  {
   "cell_type": "markdown",
   "id": "8a243deb-b5ba-4e1c-8729-caa14116c12b",
   "metadata": {},
   "source": [
    "1. In the below elements which of them are values or an expression? eg:- values can be\n",
    "integer or string and expressions will be mathematical operators.\n",
    "\n",
    "(1) *\n",
    "(2)'hello'\n",
    "(3)-87.8\n",
    "(4)-\n",
    "(5)/\n",
    "(6)+\n",
    "(7)6"
   ]
  },
  {
   "cell_type": "code",
   "execution_count": null,
   "id": "4e33ff0b-04a3-4bdc-9bf3-97d819998b36",
   "metadata": {},
   "outputs": [],
   "source": [
    "Ans: * - Arithmetic Operator\n",
    "'hello' - string\n",
    "-87.8 - Negative Integer\n",
    "-  -  Arithmetic Operator\n",
    "/ - Arithmetic Operator\n",
    "+ - Arithmetic Operator\n",
    "6 - Integer"
   ]
  },
  {
   "cell_type": "markdown",
   "id": "809e0fa8-1617-49bb-9fc1-2f0fa45ad26f",
   "metadata": {},
   "source": [
    "2. What is the difference between string and variable?"
   ]
  },
  {
   "cell_type": "code",
   "execution_count": null,
   "id": "4db81e28-20c3-4c67-bbe0-5e5d6161ac88",
   "metadata": {},
   "outputs": [],
   "source": [
    "String:\n",
    "A string is a type of data.\n",
    "It is a sequence of characters enclosed in quotes (' or \").\n",
    "Example: \"Hello\", '123', \"Python123\"\n",
    "\n",
    "Variable:\n",
    "A variable is a name used to store data or values in memory.\n",
    "It can store any type of data, including strings, numbers, etc.\n",
    "Example: name = \"Ritik\""
   ]
  },
  {
   "cell_type": "markdown",
   "id": "8f8666d3-abb3-46b1-b357-9a5b43305928",
   "metadata": {},
   "source": [
    "3. Describe three different data types."
   ]
  },
  {
   "cell_type": "code",
   "execution_count": null,
   "id": "c3738ec4-a3b0-4ad3-9055-cbc6818a8567",
   "metadata": {},
   "outputs": [],
   "source": [
    "Ans: 1. Integer (int)\n",
    "(i) Represents whole numbers without a fractional component. Examples: 10, -3, 42\n",
    "(ii) Use: For counting, indexing, mathematical operations where only whole numbers are needed.\n",
    "(iii) Example in code: age = 25\n",
    "\n",
    "\n",
    "2. Float (float)\n",
    "(i) Represents numbers with a decimal point (fractional component). Examples: 3.14, -0.5, 2.71828\n",
    "(ii) Use: For calculations that require precision, like measurements, scientific data, or financial calculations.\n",
    "(iii) Example in code: temperature = 98.6\n",
    "\n",
    "\n",
    "3. String (str)\n",
    "(i) Represents a sequence of characters, used for text data. Examples: \"Hello, World!\", 'Python 3.9'\n",
    "(ii) Use: For storing and manipulating text, such as names, sentences, or any data that requires textual representation.\n",
    "(iii) Example in code: name = \"Alice\""
   ]
  },
  {
   "cell_type": "markdown",
   "id": "3ea11dba-9382-45d8-8e72-cea3bc6f56aa",
   "metadata": {},
   "source": [
    "4. What is an expression made up of? What do all expressions do?"
   ]
  },
  {
   "cell_type": "code",
   "execution_count": null,
   "id": "6fa4f50b-7cdf-4928-aaa6-cadfbf8b6f88",
   "metadata": {},
   "outputs": [],
   "source": [
    "Ans: (1) An expression in Python is a combination of variables, values, operators, and function calls that, when evaluated, produces a single value. \n",
    "It can be as simple as a single constant like 5 or as complex as a mathematical formula like (x + y) * z. \n",
    "\n",
    "(2) Expressions can include arithmetic operators (e.g., +, -, *, /), comparison operators (e.g., >, <, ==), \n",
    "logical operators (e.g., and, or, not), and even function calls that return a value. \n",
    "\n",
    "(3) The purpose of an expression is to compute or derive a value from the given inputs, such as assignments or control flow statements. \n",
    "For instance, in the expression 3 + 4, the result is 7, which is the value produced by adding 3 and 4.\n",
    "\n",
    "(4) Ultimately, all expressions are evaluated to yield a value, making them fundamental building blocks in programming \n",
    "for performing calculations, making decisions, and controlling the flow of a program."
   ]
  },
  {
   "cell_type": "markdown",
   "id": "c510b84d-71e5-475a-bf29-d5daa92644ba",
   "metadata": {},
   "source": [
    "5. This assignment statements, like spam = 10. What is the difference between an expression and a statement?"
   ]
  },
  {
   "cell_type": "code",
   "execution_count": null,
   "id": "612c15fa-46d4-49bf-8245-56f89a062398",
   "metadata": {},
   "outputs": [],
   "source": [
    "Ans: The difference between an expression and a statement in Python is fundamental to understanding how code executes:\n",
    "\n",
    "(a) Expression : (i) An expression is a combination of values, variables, operators, and function calls that the Python interpreter can evaluate to produce a single value. For example, 2 + 3, len(\"hello\"), or x * y are all expressions.\n",
    "Expressions always yield a value. They are often used in places where a value is needed, such as in assignments, function arguments, or conditions.\n",
    "\n",
    "(b) Statements : Statements don't produce a value, and so they can't be used as function arguments.\n"
   ]
  },
  {
   "cell_type": "markdown",
   "id": "71fd9a25-8600-4c7b-9d95-107d46496c64",
   "metadata": {},
   "source": [
    "6. After running the following code, what does the variable bacon contain?\n",
    "\n",
    "bacon = 22 \n",
    "bacon + 1"
   ]
  },
  {
   "cell_type": "code",
   "execution_count": 5,
   "id": "1ecfab83-5e57-4498-b271-f69fd1599ae1",
   "metadata": {},
   "outputs": [
    {
     "data": {
      "text/plain": [
       "23"
      ]
     },
     "execution_count": 5,
     "metadata": {},
     "output_type": "execute_result"
    }
   ],
   "source": [
    "bacon = 22\n",
    "bacon +1 #After running the following code, the variable bacon will contain value 23.\n"
   ]
  },
  {
   "cell_type": "markdown",
   "id": "46e3c06a-2f24-4aba-9c38-2c9850417ffc",
   "metadata": {},
   "source": [
    "7. What should the values of the following two terms be?\n",
    "\n",
    "'spam' + 'spamspam'\n",
    "\n",
    "'spam'* 3\n"
   ]
  },
  {
   "cell_type": "code",
   "execution_count": 6,
   "id": "8ea5b3df-3ce9-4a60-ab38-6cb6703e3fa6",
   "metadata": {},
   "outputs": [
    {
     "data": {
      "text/plain": [
       "'spamspamspam'"
      ]
     },
     "execution_count": 6,
     "metadata": {},
     "output_type": "execute_result"
    }
   ],
   "source": [
    "'spam' + 'spamspam'\n"
   ]
  },
  {
   "cell_type": "code",
   "execution_count": 7,
   "id": "1af600da-13bf-4241-863e-021b988ac68b",
   "metadata": {},
   "outputs": [
    {
     "data": {
      "text/plain": [
       "'spamspamspam'"
      ]
     },
     "execution_count": 7,
     "metadata": {},
     "output_type": "execute_result"
    }
   ],
   "source": [
    "'spam'* 3\n"
   ]
  },
  {
   "cell_type": "markdown",
   "id": "f863b697-316a-433a-b387-18b8d211125c",
   "metadata": {},
   "source": [
    "8. Why is eggs a valid variable name while 100 is invalid ?"
   ]
  },
  {
   "cell_type": "code",
   "execution_count": null,
   "id": "8dd00eae-930d-4257-abfd-4fc61921868d",
   "metadata": {},
   "outputs": [],
   "source": [
    "Ans: Eggs is a valid variable name because it does not violate the rule of not starting letters with a digit or a number.\n",
    "In comparision to eggs, 100 is invalid because it is a number that starts with a digit that is it violates the rule."
   ]
  },
  {
   "cell_type": "markdown",
   "id": "e08fed34-ac08-4aea-a20f-77ef445fb99a",
   "metadata": {},
   "source": [
    "9. What three functions can be used to get the integer, floating-point number, or string version of a value ?"
   ]
  },
  {
   "cell_type": "code",
   "execution_count": null,
   "id": "4523d2ee-0f28-4f42-81f5-f2f8aa6ddf99",
   "metadata": {},
   "outputs": [],
   "source": [
    "Ans: The int(), float() and str() functions can be used to get the integer, floating-point number, or string version of a value."
   ]
  },
  {
   "cell_type": "markdown",
   "id": "ee22cc04-8243-4ee1-9da8-45c92080d8aa",
   "metadata": {},
   "source": [
    "10. Why does this expression cause an error? How can you fix it?\n",
    "\n",
    "'I have eaten' + 99 + 'burritos.'"
   ]
  },
  {
   "cell_type": "code",
   "execution_count": 8,
   "id": "4bc8a2bc-017e-42d9-bcd6-de9b5716c55c",
   "metadata": {},
   "outputs": [
    {
     "ename": "TypeError",
     "evalue": "can only concatenate str (not \"int\") to str",
     "output_type": "error",
     "traceback": [
      "\u001b[1;31m---------------------------------------------------------------------------\u001b[0m",
      "\u001b[1;31mTypeError\u001b[0m                                 Traceback (most recent call last)",
      "Cell \u001b[1;32mIn[8], line 1\u001b[0m\n\u001b[1;32m----> 1\u001b[0m \u001b[38;5;124m'\u001b[39m\u001b[38;5;124mI have eaten\u001b[39m\u001b[38;5;124m'\u001b[39m \u001b[38;5;241m+\u001b[39m  \u001b[38;5;241m99\u001b[39m  \u001b[38;5;241m+\u001b[39m\u001b[38;5;124m'\u001b[39m\u001b[38;5;124mburritos.\u001b[39m\u001b[38;5;124m'\u001b[39m\n",
      "\u001b[1;31mTypeError\u001b[0m: can only concatenate str (not \"int\") to str"
     ]
    }
   ],
   "source": [
    "'I have eaten' +  99  +'burritos.'"
   ]
  },
  {
   "cell_type": "code",
   "execution_count": null,
   "id": "16969a1e-8f36-4938-b360-fe797c4d8b5d",
   "metadata": {},
   "outputs": [],
   "source": [
    "Ans: The expression 'I have eaten' + 99 + 'burritos' can concatenate only string values not int values. To fix\n",
    "this error. We can put 99 into string and then:"
   ]
  },
  {
   "cell_type": "code",
   "execution_count": 12,
   "id": "aefcf464-73b9-46da-b331-f8c55f9f1ca1",
   "metadata": {},
   "outputs": [
    {
     "data": {
      "text/plain": [
       "'I have eaten99 burritos.'"
      ]
     },
     "execution_count": 12,
     "metadata": {},
     "output_type": "execute_result"
    }
   ],
   "source": [
    "'I have eaten'  +  '99 '+'burritos.'"
   ]
  },
  {
   "cell_type": "code",
   "execution_count": null,
   "id": "cc267bf2-6abd-4314-bb6b-bc2d55daf4ad",
   "metadata": {},
   "outputs": [],
   "source": []
  }
 ],
 "metadata": {
  "kernelspec": {
   "display_name": "Python 3 (ipykernel)",
   "language": "python",
   "name": "python3"
  },
  "language_info": {
   "codemirror_mode": {
    "name": "ipython",
    "version": 3
   },
   "file_extension": ".py",
   "mimetype": "text/x-python",
   "name": "python",
   "nbconvert_exporter": "python",
   "pygments_lexer": "ipython3",
   "version": "3.12.7"
  }
 },
 "nbformat": 4,
 "nbformat_minor": 5
}
